{
 "cells": [
  {
   "cell_type": "code",
   "execution_count": 27,
   "id": "5a050ac3",
   "metadata": {},
   "outputs": [],
   "source": [
    "import time as t\n",
    "import numpy as np"
   ]
  },
  {
   "cell_type": "code",
   "execution_count": 37,
   "id": "b35f5942",
   "metadata": {},
   "outputs": [
    {
     "name": "stdout",
     "output_type": "stream",
     "text": [
      "Found Nemo\n",
      "Runtime: 0.0006101131439208984 milliseconds\n"
     ]
    }
   ],
   "source": [
    "# array with just 1 element\n",
    "const_ar = ['nemo']\n",
    "\n",
    "# to create a numpy array of specific size and fill it with same value \n",
    "const_ar_large = np.full(100000, 'nemo')\n",
    "\n",
    "def finding_nemo(elem_ar):\n",
    "    t0 = t.time()\n",
    "    for elem in elem_ar:\n",
    "        if elem == 'nemo':\n",
    "            print (\"Found Nemo\")\n",
    "    t1 = time.time()\n",
    "    print(\"Runtime:\" , t1-t0, \"milliseconds\")\n",
    "\n",
    "## With only 1 element --> runtime was around 0 ms for multiple runs\n",
    "finding_nemo(const_ar) \n",
    "\n",
    "## with 10,000k constants of same value, around 16 ms\n",
    "#finding_nemo(const_ar_large)"
   ]
  },
  {
   "cell_type": "code",
   "execution_count": null,
   "id": "4fa72477",
   "metadata": {},
   "outputs": [],
   "source": []
  },
  {
   "cell_type": "code",
   "execution_count": null,
   "id": "d3566b2f",
   "metadata": {},
   "outputs": [],
   "source": []
  },
  {
   "cell_type": "code",
   "execution_count": null,
   "id": "af142f25",
   "metadata": {},
   "outputs": [],
   "source": []
  }
 ],
 "metadata": {
  "kernelspec": {
   "display_name": "ds_algos",
   "language": "python",
   "name": "ds_algos"
  },
  "language_info": {
   "codemirror_mode": {
    "name": "ipython",
    "version": 3
   },
   "file_extension": ".py",
   "mimetype": "text/x-python",
   "name": "python",
   "nbconvert_exporter": "python",
   "pygments_lexer": "ipython3",
   "version": "3.9.12"
  }
 },
 "nbformat": 4,
 "nbformat_minor": 5
}
