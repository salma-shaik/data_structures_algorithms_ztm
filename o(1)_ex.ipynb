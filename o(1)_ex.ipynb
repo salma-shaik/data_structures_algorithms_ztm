{
 "cells": [
  {
   "cell_type": "code",
   "execution_count": 1,
   "id": "cdbcf1e1",
   "metadata": {},
   "outputs": [],
   "source": [
    "import time as t\n",
    "import numpy as np"
   ]
  },
  {
   "cell_type": "code",
   "execution_count": 11,
   "id": "b0e79584",
   "metadata": {},
   "outputs": [
    {
     "name": "stdout",
     "output_type": "stream",
     "text": [
      "nemo\n",
      "nemo\n",
      "Runtime:  0.00025963783264160156 milliseconds\n",
      "nemo\n",
      "nemo\n",
      "Runtime:  5.507469177246094e-05 milliseconds\n",
      "nemo\n",
      "nemo\n",
      "Runtime:  4.124641418457031e-05 milliseconds\n"
     ]
    }
   ],
   "source": [
    "sml_ar = ['nemo', 'nemo']\n",
    "med_ar = np.full(100, 'nemo')\n",
    "lar_ar = np.full(100000, 'nemo')\n",
    "\n",
    "def finding_two_nemos(elem_ar):\n",
    "    t0 = t.time()\n",
    "    print(elem_ar[0])\n",
    "    print(elem_ar[1])\n",
    "    t1 = t.time()\n",
    "    print('Runtime: ', t1-t0, 'milliseconds')\n",
    "    \n",
    "finding_two_nemos(sml_ar) # 0.00025963783264160156 milliseconds\n",
    "finding_two_nemos(med_ar) # 5.507469177246094e-05 milliseconds\n",
    "finding_two_nemos(lar_ar) # 4.124641418457031e-05 milliseconds\n",
    "\n",
    "### o(1) --> constant runtime --> number of operations remain same irrespective of increase in input size - SCALABLE"
   ]
  },
  {
   "cell_type": "code",
   "execution_count": null,
   "id": "a047de68",
   "metadata": {},
   "outputs": [],
   "source": []
  },
  {
   "cell_type": "code",
   "execution_count": null,
   "id": "8e982032",
   "metadata": {},
   "outputs": [],
   "source": []
  }
 ],
 "metadata": {
  "kernelspec": {
   "display_name": "ds_algos",
   "language": "python",
   "name": "ds_algos"
  },
  "language_info": {
   "codemirror_mode": {
    "name": "ipython",
    "version": 3
   },
   "file_extension": ".py",
   "mimetype": "text/x-python",
   "name": "python",
   "nbconvert_exporter": "python",
   "pygments_lexer": "ipython3",
   "version": "3.9.12"
  }
 },
 "nbformat": 4,
 "nbformat_minor": 5
}
