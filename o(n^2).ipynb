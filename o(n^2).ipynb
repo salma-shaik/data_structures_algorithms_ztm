{
 "cells": [
  {
   "cell_type": "code",
   "execution_count": 6,
   "id": "ee3471b3",
   "metadata": {},
   "outputs": [
    {
     "name": "stdout",
     "output_type": "stream",
     "text": [
      "1 1\n",
      "1 2\n",
      "1 3\n",
      "1 4\n",
      "1 5\n",
      "2 1\n",
      "2 2\n",
      "2 3\n",
      "2 4\n",
      "2 5\n",
      "3 1\n",
      "3 2\n",
      "3 3\n",
      "3 4\n",
      "3 5\n",
      "4 1\n",
      "4 2\n",
      "4 3\n",
      "4 4\n",
      "4 5\n",
      "5 1\n",
      "5 2\n",
      "5 3\n",
      "5 4\n",
      "5 5\n"
     ]
    }
   ],
   "source": [
    "## Log all pairs of array\n",
    "\n",
    "ex_ar = [1,2,3,4,5]\n",
    "\n",
    "def all_pairs(elem_ar):\n",
    "    for elem1 in elem_ar:\n",
    "        for elem2 in elem_ar:\n",
    "            print(elem1, elem2)\n",
    "            \n",
    "all_pairs(ex_ar)\n",
    "\n",
    "## elem_ar * elem_ar to get all possible pairs\n",
    "### o(n^2) --> quadratic time complexity"
   ]
  },
  {
   "cell_type": "code",
   "execution_count": null,
   "id": "40bcd13f",
   "metadata": {},
   "outputs": [],
   "source": []
  }
 ],
 "metadata": {
  "kernelspec": {
   "display_name": "ds_algos",
   "language": "python",
   "name": "ds_algos"
  },
  "language_info": {
   "codemirror_mode": {
    "name": "ipython",
    "version": 3
   },
   "file_extension": ".py",
   "mimetype": "text/x-python",
   "name": "python",
   "nbconvert_exporter": "python",
   "pygments_lexer": "ipython3",
   "version": "3.9.12"
  }
 },
 "nbformat": 4,
 "nbformat_minor": 5
}
